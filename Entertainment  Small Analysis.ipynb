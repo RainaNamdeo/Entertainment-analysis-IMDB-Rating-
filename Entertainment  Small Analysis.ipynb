{
 "cells": [
  {
   "cell_type": "code",
   "execution_count": 1,
   "metadata": {},
   "outputs": [],
   "source": [
    "import pandas as pd"
   ]
  },
  {
   "cell_type": "code",
   "execution_count": 2,
   "metadata": {},
   "outputs": [],
   "source": [
    "movies=pd.read_csv(\"D:/csv/Movie+Assignment+Data.csv\",index_col=0)"
   ]
  },
  {
   "cell_type": "code",
   "execution_count": 3,
   "metadata": {},
   "outputs": [
    {
     "data": {
      "text/html": [
       "<div>\n",
       "<style scoped>\n",
       "    .dataframe tbody tr th:only-of-type {\n",
       "        vertical-align: middle;\n",
       "    }\n",
       "\n",
       "    .dataframe tbody tr th {\n",
       "        vertical-align: top;\n",
       "    }\n",
       "\n",
       "    .dataframe thead th {\n",
       "        text-align: right;\n",
       "    }\n",
       "</style>\n",
       "<table border=\"1\" class=\"dataframe\">\n",
       "  <thead>\n",
       "    <tr style=\"text-align: right;\">\n",
       "      <th></th>\n",
       "      <th>title_year</th>\n",
       "      <th>budget</th>\n",
       "      <th>Gross</th>\n",
       "      <th>actor_1_name</th>\n",
       "      <th>actor_2_name</th>\n",
       "      <th>actor_3_name</th>\n",
       "      <th>actor_1_facebook_likes</th>\n",
       "      <th>actor_2_facebook_likes</th>\n",
       "      <th>actor_3_facebook_likes</th>\n",
       "      <th>IMDb_rating</th>\n",
       "      <th>...</th>\n",
       "      <th>Votes3044M</th>\n",
       "      <th>Votes3044F</th>\n",
       "      <th>Votes45A</th>\n",
       "      <th>Votes45AM</th>\n",
       "      <th>Votes45AF</th>\n",
       "      <th>Votes1000</th>\n",
       "      <th>VotesUS</th>\n",
       "      <th>VotesnUS</th>\n",
       "      <th>content_rating</th>\n",
       "      <th>Country</th>\n",
       "    </tr>\n",
       "    <tr>\n",
       "      <th>Title</th>\n",
       "      <th></th>\n",
       "      <th></th>\n",
       "      <th></th>\n",
       "      <th></th>\n",
       "      <th></th>\n",
       "      <th></th>\n",
       "      <th></th>\n",
       "      <th></th>\n",
       "      <th></th>\n",
       "      <th></th>\n",
       "      <th></th>\n",
       "      <th></th>\n",
       "      <th></th>\n",
       "      <th></th>\n",
       "      <th></th>\n",
       "      <th></th>\n",
       "      <th></th>\n",
       "      <th></th>\n",
       "      <th></th>\n",
       "      <th></th>\n",
       "      <th></th>\n",
       "    </tr>\n",
       "  </thead>\n",
       "  <tbody>\n",
       "    <tr>\n",
       "      <th>La La Land</th>\n",
       "      <td>2016</td>\n",
       "      <td>30000000</td>\n",
       "      <td>151101803</td>\n",
       "      <td>Ryan Gosling</td>\n",
       "      <td>Emma Stone</td>\n",
       "      <td>Amiée Conn</td>\n",
       "      <td>14000</td>\n",
       "      <td>19000.0</td>\n",
       "      <td>NaN</td>\n",
       "      <td>8.2</td>\n",
       "      <td>...</td>\n",
       "      <td>7.9</td>\n",
       "      <td>7.8</td>\n",
       "      <td>7.6</td>\n",
       "      <td>7.6</td>\n",
       "      <td>7.5</td>\n",
       "      <td>7.1</td>\n",
       "      <td>8.3</td>\n",
       "      <td>8.1</td>\n",
       "      <td>PG-13</td>\n",
       "      <td>USA</td>\n",
       "    </tr>\n",
       "    <tr>\n",
       "      <th>Zootopia</th>\n",
       "      <td>2016</td>\n",
       "      <td>150000000</td>\n",
       "      <td>341268248</td>\n",
       "      <td>Ginnifer Goodwin</td>\n",
       "      <td>Jason Bateman</td>\n",
       "      <td>Idris Elba</td>\n",
       "      <td>2800</td>\n",
       "      <td>28000.0</td>\n",
       "      <td>27000.0</td>\n",
       "      <td>8.1</td>\n",
       "      <td>...</td>\n",
       "      <td>7.8</td>\n",
       "      <td>8.1</td>\n",
       "      <td>7.8</td>\n",
       "      <td>7.8</td>\n",
       "      <td>8.1</td>\n",
       "      <td>7.6</td>\n",
       "      <td>8.0</td>\n",
       "      <td>8.0</td>\n",
       "      <td>PG</td>\n",
       "      <td>USA</td>\n",
       "    </tr>\n",
       "    <tr>\n",
       "      <th>Lion</th>\n",
       "      <td>2016</td>\n",
       "      <td>12000000</td>\n",
       "      <td>51738905</td>\n",
       "      <td>Dev Patel</td>\n",
       "      <td>Nicole Kidman</td>\n",
       "      <td>Rooney Mara</td>\n",
       "      <td>33000</td>\n",
       "      <td>96000.0</td>\n",
       "      <td>9800.0</td>\n",
       "      <td>8.1</td>\n",
       "      <td>...</td>\n",
       "      <td>7.9</td>\n",
       "      <td>8.2</td>\n",
       "      <td>8.0</td>\n",
       "      <td>7.9</td>\n",
       "      <td>8.4</td>\n",
       "      <td>7.1</td>\n",
       "      <td>8.1</td>\n",
       "      <td>8.0</td>\n",
       "      <td>PG-13</td>\n",
       "      <td>Australia</td>\n",
       "    </tr>\n",
       "    <tr>\n",
       "      <th>Arrival</th>\n",
       "      <td>2016</td>\n",
       "      <td>47000000</td>\n",
       "      <td>100546139</td>\n",
       "      <td>Amy Adams</td>\n",
       "      <td>Jeremy Renner</td>\n",
       "      <td>Forest Whitaker</td>\n",
       "      <td>35000</td>\n",
       "      <td>5300.0</td>\n",
       "      <td>NaN</td>\n",
       "      <td>8.0</td>\n",
       "      <td>...</td>\n",
       "      <td>7.8</td>\n",
       "      <td>7.8</td>\n",
       "      <td>7.6</td>\n",
       "      <td>7.6</td>\n",
       "      <td>7.7</td>\n",
       "      <td>7.3</td>\n",
       "      <td>8.0</td>\n",
       "      <td>7.9</td>\n",
       "      <td>PG-13</td>\n",
       "      <td>USA</td>\n",
       "    </tr>\n",
       "    <tr>\n",
       "      <th>Manchester by the Sea</th>\n",
       "      <td>2016</td>\n",
       "      <td>9000000</td>\n",
       "      <td>47695371</td>\n",
       "      <td>Casey Affleck</td>\n",
       "      <td>Michelle Williams</td>\n",
       "      <td>Kyle Chandler</td>\n",
       "      <td>518</td>\n",
       "      <td>71000.0</td>\n",
       "      <td>3300.0</td>\n",
       "      <td>7.9</td>\n",
       "      <td>...</td>\n",
       "      <td>7.7</td>\n",
       "      <td>7.7</td>\n",
       "      <td>7.6</td>\n",
       "      <td>7.6</td>\n",
       "      <td>7.6</td>\n",
       "      <td>7.1</td>\n",
       "      <td>7.9</td>\n",
       "      <td>7.8</td>\n",
       "      <td>R</td>\n",
       "      <td>USA</td>\n",
       "    </tr>\n",
       "  </tbody>\n",
       "</table>\n",
       "<p>5 rows × 61 columns</p>\n",
       "</div>"
      ],
      "text/plain": [
       "                       title_year     budget      Gross      actor_1_name  \\\n",
       "Title                                                                       \n",
       "La La Land                   2016   30000000  151101803      Ryan Gosling   \n",
       "Zootopia                     2016  150000000  341268248  Ginnifer Goodwin   \n",
       "Lion                         2016   12000000   51738905         Dev Patel   \n",
       "Arrival                      2016   47000000  100546139         Amy Adams   \n",
       "Manchester by the Sea        2016    9000000   47695371     Casey Affleck   \n",
       "\n",
       "                             actor_2_name     actor_3_name  \\\n",
       "Title                                                        \n",
       "La La Land                     Emma Stone       Amiée Conn   \n",
       "Zootopia                    Jason Bateman       Idris Elba   \n",
       "Lion                        Nicole Kidman      Rooney Mara   \n",
       "Arrival                     Jeremy Renner  Forest Whitaker   \n",
       "Manchester by the Sea  Michelle Williams     Kyle Chandler   \n",
       "\n",
       "                       actor_1_facebook_likes  actor_2_facebook_likes  \\\n",
       "Title                                                                   \n",
       "La La Land                              14000                 19000.0   \n",
       "Zootopia                                 2800                 28000.0   \n",
       "Lion                                    33000                 96000.0   \n",
       "Arrival                                 35000                  5300.0   \n",
       "Manchester by the Sea                     518                 71000.0   \n",
       "\n",
       "                       actor_3_facebook_likes  IMDb_rating  ... Votes3044M  \\\n",
       "Title                                                       ...              \n",
       "La La Land                                NaN          8.2  ...        7.9   \n",
       "Zootopia                              27000.0          8.1  ...        7.8   \n",
       "Lion                                   9800.0          8.1  ...        7.9   \n",
       "Arrival                                   NaN          8.0  ...        7.8   \n",
       "Manchester by the Sea                  3300.0          7.9  ...        7.7   \n",
       "\n",
       "                      Votes3044F Votes45A  Votes45AM  Votes45AF  Votes1000  \\\n",
       "Title                                                                        \n",
       "La La Land                   7.8      7.6        7.6        7.5        7.1   \n",
       "Zootopia                     8.1      7.8        7.8        8.1        7.6   \n",
       "Lion                         8.2      8.0        7.9        8.4        7.1   \n",
       "Arrival                      7.8      7.6        7.6        7.7        7.3   \n",
       "Manchester by the Sea        7.7      7.6        7.6        7.6        7.1   \n",
       "\n",
       "                       VotesUS  VotesnUS  content_rating    Country  \n",
       "Title                                                                \n",
       "La La Land                 8.3       8.1           PG-13        USA  \n",
       "Zootopia                   8.0       8.0              PG        USA  \n",
       "Lion                       8.1       8.0           PG-13  Australia  \n",
       "Arrival                    8.0       7.9           PG-13        USA  \n",
       "Manchester by the Sea      7.9       7.8               R        USA  \n",
       "\n",
       "[5 rows x 61 columns]"
      ]
     },
     "execution_count": 3,
     "metadata": {},
     "output_type": "execute_result"
    }
   ],
   "source": [
    "movies.head()"
   ]
  },
  {
   "cell_type": "code",
   "execution_count": 4,
   "metadata": {},
   "outputs": [
    {
     "name": "stdout",
     "output_type": "stream",
     "text": [
      "                       title_year     budget      Gross      actor_1_name  \\\n",
      "Title                                                                       \n",
      "La La Land                   2016   30000000  151101803      Ryan Gosling   \n",
      "Zootopia                     2016  150000000  341268248  Ginnifer Goodwin   \n",
      "Lion                         2016   12000000   51738905         Dev Patel   \n",
      "Arrival                      2016   47000000  100546139         Amy Adams   \n",
      "Manchester by the Sea        2016    9000000   47695371     Casey Affleck   \n",
      "\n",
      "                             actor_2_name     actor_3_name  \\\n",
      "Title                                                        \n",
      "La La Land                     Emma Stone       Amiée Conn   \n",
      "Zootopia                    Jason Bateman       Idris Elba   \n",
      "Lion                        Nicole Kidman      Rooney Mara   \n",
      "Arrival                     Jeremy Renner  Forest Whitaker   \n",
      "Manchester by the Sea  Michelle Williams     Kyle Chandler   \n",
      "\n",
      "                       actor_1_facebook_likes  actor_2_facebook_likes  \\\n",
      "Title                                                                   \n",
      "La La Land                              14000                 19000.0   \n",
      "Zootopia                                 2800                 28000.0   \n",
      "Lion                                    33000                 96000.0   \n",
      "Arrival                                 35000                  5300.0   \n",
      "Manchester by the Sea                     518                 71000.0   \n",
      "\n",
      "                       actor_3_facebook_likes  IMDb_rating  ... Votes3044M  \\\n",
      "Title                                                       ...              \n",
      "La La Land                                NaN          8.2  ...        7.9   \n",
      "Zootopia                              27000.0          8.1  ...        7.8   \n",
      "Lion                                   9800.0          8.1  ...        7.9   \n",
      "Arrival                                   NaN          8.0  ...        7.8   \n",
      "Manchester by the Sea                  3300.0          7.9  ...        7.7   \n",
      "\n",
      "                      Votes3044F Votes45A  Votes45AM  Votes45AF  Votes1000  \\\n",
      "Title                                                                        \n",
      "La La Land                   7.8      7.6        7.6        7.5        7.1   \n",
      "Zootopia                     8.1      7.8        7.8        8.1        7.6   \n",
      "Lion                         8.2      8.0        7.9        8.4        7.1   \n",
      "Arrival                      7.8      7.6        7.6        7.7        7.3   \n",
      "Manchester by the Sea        7.7      7.6        7.6        7.6        7.1   \n",
      "\n",
      "                       VotesUS  VotesnUS  content_rating    Country  \n",
      "Title                                                                \n",
      "La La Land                 8.3       8.1           PG-13        USA  \n",
      "Zootopia                   8.0       8.0              PG        USA  \n",
      "Lion                       8.1       8.0           PG-13  Australia  \n",
      "Arrival                    8.0       7.9           PG-13        USA  \n",
      "Manchester by the Sea      7.9       7.8               R        USA  \n",
      "\n",
      "[5 rows x 61 columns]\n"
     ]
    }
   ],
   "source": [
    "print(movies.head())"
   ]
  },
  {
   "cell_type": "code",
   "execution_count": 5,
   "metadata": {},
   "outputs": [
    {
     "name": "stdout",
     "output_type": "stream",
     "text": [
      "<class 'pandas.core.frame.DataFrame'>\n",
      "Index: 100 entries, La La Land to Tucker and Dale vs Evil\n",
      "Data columns (total 61 columns):\n",
      " #   Column                  Non-Null Count  Dtype  \n",
      "---  ------                  --------------  -----  \n",
      " 0   title_year              100 non-null    int64  \n",
      " 1   budget                  100 non-null    int64  \n",
      " 2   Gross                   100 non-null    int64  \n",
      " 3   actor_1_name            100 non-null    object \n",
      " 4   actor_2_name            100 non-null    object \n",
      " 5   actor_3_name            100 non-null    object \n",
      " 6   actor_1_facebook_likes  100 non-null    int64  \n",
      " 7   actor_2_facebook_likes  99 non-null     float64\n",
      " 8   actor_3_facebook_likes  98 non-null     float64\n",
      " 9   IMDb_rating             100 non-null    float64\n",
      " 10  genre_1                 100 non-null    object \n",
      " 11  genre_2                 97 non-null     object \n",
      " 12  genre_3                 74 non-null     object \n",
      " 13  MetaCritic              95 non-null     float64\n",
      " 14  Runtime                 100 non-null    int64  \n",
      " 15  CVotes10                100 non-null    int64  \n",
      " 16  CVotes09                100 non-null    int64  \n",
      " 17  CVotes08                100 non-null    int64  \n",
      " 18  CVotes07                100 non-null    int64  \n",
      " 19  CVotes06                100 non-null    int64  \n",
      " 20  CVotes05                100 non-null    int64  \n",
      " 21  CVotes04                100 non-null    int64  \n",
      " 22  CVotes03                100 non-null    int64  \n",
      " 23  CVotes02                100 non-null    int64  \n",
      " 24  CVotes01                100 non-null    int64  \n",
      " 25  CVotesMale              100 non-null    int64  \n",
      " 26  CVotesFemale            100 non-null    int64  \n",
      " 27  CVotesU18               100 non-null    int64  \n",
      " 28  CVotesU18M              100 non-null    int64  \n",
      " 29  CVotesU18F              100 non-null    int64  \n",
      " 30  CVotes1829              100 non-null    int64  \n",
      " 31  CVotes1829M             100 non-null    int64  \n",
      " 32  CVotes1829F             100 non-null    int64  \n",
      " 33  CVotes3044              100 non-null    int64  \n",
      " 34  CVotes3044M             100 non-null    int64  \n",
      " 35  CVotes3044F             100 non-null    int64  \n",
      " 36  CVotes45A               100 non-null    int64  \n",
      " 37  CVotes45AM              100 non-null    int64  \n",
      " 38  CVotes45AF              100 non-null    int64  \n",
      " 39  CVotes1000              100 non-null    int64  \n",
      " 40  CVotesUS                100 non-null    int64  \n",
      " 41  CVotesnUS               100 non-null    int64  \n",
      " 42  VotesM                  100 non-null    float64\n",
      " 43  VotesF                  100 non-null    float64\n",
      " 44  VotesU18                100 non-null    float64\n",
      " 45  VotesU18M               100 non-null    float64\n",
      " 46  VotesU18F               100 non-null    float64\n",
      " 47  Votes1829               100 non-null    float64\n",
      " 48  Votes1829M              100 non-null    float64\n",
      " 49  Votes1829F              100 non-null    float64\n",
      " 50  Votes3044               100 non-null    float64\n",
      " 51  Votes3044M              100 non-null    float64\n",
      " 52  Votes3044F              100 non-null    float64\n",
      " 53  Votes45A                100 non-null    float64\n",
      " 54  Votes45AM               100 non-null    float64\n",
      " 55  Votes45AF               100 non-null    float64\n",
      " 56  Votes1000               100 non-null    float64\n",
      " 57  VotesUS                 100 non-null    float64\n",
      " 58  VotesnUS                100 non-null    float64\n",
      " 59  content_rating          100 non-null    object \n",
      " 60  Country                 100 non-null    object \n",
      "dtypes: float64(21), int64(32), object(8)\n",
      "memory usage: 48.4+ KB\n",
      "None\n"
     ]
    }
   ],
   "source": [
    "#mean and median\n",
    "print(movies.info())"
   ]
  },
  {
   "cell_type": "code",
   "execution_count": 6,
   "metadata": {},
   "outputs": [
    {
     "name": "stdout",
     "output_type": "stream",
     "text": [
      "78384000.0\n"
     ]
    }
   ],
   "source": [
    "#to print mean\n",
    "print(movies[\"budget\"].mean())"
   ]
  },
  {
   "cell_type": "code",
   "execution_count": 7,
   "metadata": {},
   "outputs": [
    {
     "name": "stdout",
     "output_type": "stream",
     "text": [
      "42250000.0\n"
     ]
    }
   ],
   "source": [
    "#to print median\n",
    "print(movies[\"budget\"].median())"
   ]
  },
  {
   "cell_type": "code",
   "execution_count": 8,
   "metadata": {},
   "outputs": [
    {
     "name": "stdout",
     "output_type": "stream",
     "text": [
      "260000000\n"
     ]
    }
   ],
   "source": [
    "#to the maximum of column\n",
    "print(movies[\"budget\"].max())"
   ]
  },
  {
   "cell_type": "code",
   "execution_count": 9,
   "metadata": {},
   "outputs": [
    {
     "name": "stdout",
     "output_type": "stream",
     "text": [
      "3000000\n"
     ]
    }
   ],
   "source": [
    "#to print mini of budget\n",
    "print(movies[\"budget\"].min())"
   ]
  },
  {
   "cell_type": "code",
   "execution_count": 10,
   "metadata": {},
   "outputs": [],
   "source": [
    "#Efficent summary a custom iqr function\n",
    "\n",
    "def iqr(column):\n",
    "    return column.quantile(0.75)-column.quantile(0.25)"
   ]
  },
  {
   "cell_type": "code",
   "execution_count": 14,
   "metadata": {},
   "outputs": [
    {
     "name": "stdout",
     "output_type": "stream",
     "text": [
      "19000.0\n"
     ]
    }
   ],
   "source": [
    "#to print iqr of actor_1_facebook_likes\n",
    "print (movies[\"actor_1_facebook_likes\"].agg(iqr))"
   ]
  },
  {
   "cell_type": "code",
   "execution_count": 15,
   "metadata": {},
   "outputs": [
    {
     "name": "stdout",
     "output_type": "stream",
     "text": [
      "actor_1_facebook_likes    19000.00\n",
      "actor_2_facebook_likes    10420.00\n",
      "actor_3_facebook_likes      680.25\n",
      "dtype: float64\n"
     ]
    }
   ],
   "source": [
    "#update to print iqr for facebook likes of actor 1 2 3\n",
    "print(movies[[\"actor_1_facebook_likes\",\"actor_2_facebook_likes\",\"actor_3_facebook_likes\"]].agg(iqr))"
   ]
  },
  {
   "cell_type": "code",
   "execution_count": 16,
   "metadata": {},
   "outputs": [],
   "source": [
    "#import numpy and create custom iqr function\n",
    "import numpy as np\n",
    "def iqr(column):\n",
    "    return column.quantile(0.75)-column.quantile(0.25)"
   ]
  },
  {
   "cell_type": "code",
   "execution_count": 18,
   "metadata": {},
   "outputs": [
    {
     "name": "stdout",
     "output_type": "stream",
     "text": [
      "        actor_1_facebook_likes  actor_2_facebook_likes  actor_3_facebook_likes\n",
      "iqr                    19000.0                 10420.0                  680.25\n",
      "median                 13000.0                  1000.0                  626.50\n"
     ]
    }
   ],
   "source": [
    "print(movies[[\"actor_1_facebook_likes\",\"actor_2_facebook_likes\",\"actor_3_facebook_likes\"]].agg([iqr,np.median]))"
   ]
  },
  {
   "cell_type": "code",
   "execution_count": 19,
   "metadata": {},
   "outputs": [
    {
     "name": "stdout",
     "output_type": "stream",
     "text": [
      "    IMDb_rating  cum_IMDb_rating  cum_max_IMDb_rating\n",
      "46          7.5              7.5                  7.5\n",
      "52          7.5             15.0                  7.5\n",
      "22          7.5             22.5                  7.5\n",
      "49          7.6             30.1                  7.6\n",
      "32          7.6             37.7                  7.6\n",
      "..          ...              ...                  ...\n",
      "8           8.4            754.0                  8.4\n",
      "35          8.4            762.4                  8.4\n",
      "95          8.5            770.9                  8.5\n",
      "26          8.6            779.5                  8.6\n",
      "27          8.8            788.3                  8.8\n",
      "\n",
      "[100 rows x 3 columns]\n"
     ]
    }
   ],
   "source": [
    "#cumulative Stats\n",
    "movies_1_1=pd.read_csv(\"D:/csv/Movie+Assignment+Data.csv\")\n",
    "\n",
    "#sort movies_1_1 byIMdb rating\n",
    "movies_1_1=movies_1_1.sort_values(\"IMDb_rating\")\n",
    "\n",
    "#get the cumulative sum of imdb rats add cum rating\n",
    "movies_1_1[\"cum_IMDb_rating\"]=movies_1_1[\"IMDb_rating\"].cumsum()\n",
    "\n",
    "#get the cumulative sum of imdb rats\n",
    "movies_1_1[\"cum_max_IMDb_rating\"]=movies_1_1[\"IMDb_rating\"].cummax()\n",
    "\n",
    "#see tthe coloumn you calculated\n",
    "print(movies_1_1[[\"IMDb_rating\",\"cum_IMDb_rating\",\"cum_max_IMDb_rating\"]])"
   ]
  },
  {
   "cell_type": "code",
   "execution_count": null,
   "metadata": {},
   "outputs": [],
   "source": []
  }
 ],
 "metadata": {
  "kernelspec": {
   "display_name": "Python 3",
   "language": "python",
   "name": "python3"
  },
  "language_info": {
   "codemirror_mode": {
    "name": "ipython",
    "version": 3
   },
   "file_extension": ".py",
   "mimetype": "text/x-python",
   "name": "python",
   "nbconvert_exporter": "python",
   "pygments_lexer": "ipython3",
   "version": "3.8.5"
  }
 },
 "nbformat": 4,
 "nbformat_minor": 4
}
